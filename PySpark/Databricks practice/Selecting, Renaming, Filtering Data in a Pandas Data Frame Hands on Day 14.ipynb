{
 "cells": [
  {
   "cell_type": "code",
   "execution_count": 0,
   "metadata": {
    "application/vnd.databricks.v1+cell": {
     "cellMetadata": {
      "byteLimit": 2048000,
      "rowLimit": 10000
     },
     "inputWidgets": {},
     "nuid": "3a28e2a0-fb02-4967-9705-15545e68099e",
     "showTitle": false,
     "title": ""
    }
   },
   "outputs": [
    {
     "output_type": "stream",
     "name": "stdout",
     "output_type": "stream",
     "text": [
      "+------+----------+------+------+\n|  Name|       DOB|Gender|salary|\n+------+----------+------+------+\n|   Ram|1991-04-01|     M|  3000|\n|  Mike|2000-05-19|     M|  4000|\n|Rohini|1978-09-05|     M|  4000|\n| Maria|1967-12-01|     F|  4000|\n| Jenis|1980-02-17|     F|  1200|\n+------+----------+------+------+\n\n"
     ]
    }
   ],
   "source": [
    "# Importing necessary libraries\n",
    "import pyspark\n",
    "from pyspark.sql import SparkSession\n",
    " \n",
    "# Create a spark session\n",
    "spark = SparkSession.builder.appName('pyspark - example join').getOrCreate()\n",
    " \n",
    "# Create data in dataframe\n",
    "data = [(('Ram'), '1991-04-01', 'M', 3000),\n",
    "        (('Mike'), '2000-05-19', 'M', 4000),\n",
    "        (('Rohini'), '1978-09-05', 'M', 4000),\n",
    "        (('Maria'), '1967-12-01', 'F', 4000),\n",
    "        (('Jenis'), '1980-02-17', 'F', 1200)]\n",
    " \n",
    "# Column names in dataframe\n",
    "columns = [\"Name\", \"DOB\", \"Gender\", \"salary\"]\n",
    " \n",
    "# Create the spark dataframe\n",
    "df = spark.createDataFrame(data=data,schema=columns)\n",
    " \n",
    "# Print the dataframe\n",
    "df.show()"
   ]
  },
  {
   "cell_type": "code",
   "execution_count": 0,
   "metadata": {
    "application/vnd.databricks.v1+cell": {
     "cellMetadata": {
      "byteLimit": 2048000,
      "rowLimit": 10000
     },
     "inputWidgets": {},
     "nuid": "f7ed6be0-1a44-4315-a420-90b9fb4d9224",
     "showTitle": false,
     "title": ""
    }
   },
   "outputs": [
    {
     "output_type": "stream",
     "name": "stdout",
     "output_type": "stream",
     "text": [
      "+------+-----------+------+------+\n|  Name|DateOfBirth|Gender|salary|\n+------+-----------+------+------+\n|   Ram| 1991-04-01|     M|  3000|\n|  Mike| 2000-05-19|     M|  4000|\n|Rohini| 1978-09-05|     M|  4000|\n| Maria| 1967-12-01|     F|  4000|\n| Jenis| 1980-02-17|     F|  1200|\n+------+-----------+------+------+\n\n"
     ]
    }
   ],
   "source": [
    "#Method 1: Using withColumnRenamed() ex:-1\n",
    "\n",
    "# Rename the column name from DOB to DateOfBirth\n",
    "# Print the dataframe\n",
    "df.withColumnRenamed(\"DOB\",\"DateOfBirth\").show()"
   ]
  },
  {
   "cell_type": "code",
   "execution_count": 0,
   "metadata": {
    "application/vnd.databricks.v1+cell": {
     "cellMetadata": {
      "byteLimit": 2048000,
      "rowLimit": 10000
     },
     "inputWidgets": {},
     "nuid": "32304f70-bc0d-4f03-87c7-68fd5ae945af",
     "showTitle": false,
     "title": ""
    }
   },
   "outputs": [
    {
     "output_type": "stream",
     "name": "stdout",
     "output_type": "stream",
     "text": [
      "+------+----------+---+------+\n|  Name|       DOB|Sex|Amount|\n+------+----------+---+------+\n|   Ram|1991-04-01|  M|  3000|\n|  Mike|2000-05-19|  M|  4000|\n|Rohini|1978-09-05|  M|  4000|\n| Maria|1967-12-01|  F|  4000|\n| Jenis|1980-02-17|  F|  1200|\n+------+----------+---+------+\n\n"
     ]
    }
   ],
   "source": [
    "#ex:-2\n",
    "\n",
    "# Rename the column name 'Gender' to 'Sex'\n",
    "# Then for the returning dataframe \n",
    "# again rename the 'salary' to 'Amount'\n",
    "df.withColumnRenamed(\"Gender\",\"Sex\").withColumnRenamed(\"salary\",\"Amount\").show()"
   ]
  },
  {
   "cell_type": "code",
   "execution_count": 0,
   "metadata": {
    "application/vnd.databricks.v1+cell": {
     "cellMetadata": {
      "byteLimit": 2048000,
      "rowLimit": 10000
     },
     "inputWidgets": {},
     "nuid": "e9dc3036-d2bb-412c-9a13-78235963e5a9",
     "showTitle": false,
     "title": ""
    }
   },
   "outputs": [
    {
     "output_type": "stream",
     "name": "stdout",
     "output_type": "stream",
     "text": [
      "+------+----------+------+------+\n|  name|       DOB|Gender|salary|\n+------+----------+------+------+\n|   Ram|1991-04-01|     M|  3000|\n|  Mike|2000-05-19|     M|  4000|\n|Rohini|1978-09-05|     M|  4000|\n| Maria|1967-12-01|     F|  4000|\n| Jenis|1980-02-17|     F|  1200|\n+------+----------+------+------+\n\n"
     ]
    }
   ],
   "source": [
    "#Method 2: Using selectExpr()\n",
    "\n",
    "# Select the 'Name' as 'name'\n",
    "# Select remaining with their original name\n",
    "data = df.selectExpr(\"Name as name\",\"DOB\",\"Gender\",\"salary\")\n",
    " \n",
    "# Print the dataframe\n",
    "data.show()"
   ]
  },
  {
   "cell_type": "code",
   "execution_count": 0,
   "metadata": {
    "application/vnd.databricks.v1+cell": {
     "cellMetadata": {
      "byteLimit": 2048000,
      "rowLimit": 10000
     },
     "inputWidgets": {},
     "nuid": "452d0f7a-4374-49ac-942d-4b7d054d6c94",
     "showTitle": false,
     "title": ""
    }
   },
   "outputs": [
    {
     "output_type": "stream",
     "name": "stdout",
     "output_type": "stream",
     "text": [
      "+------+----------+------+------+\n|  Name|       DOB|Gender|Amount|\n+------+----------+------+------+\n|   Ram|1991-04-01|     M|  3000|\n|  Mike|2000-05-19|     M|  4000|\n|Rohini|1978-09-05|     M|  4000|\n| Maria|1967-12-01|     F|  4000|\n| Jenis|1980-02-17|     F|  1200|\n+------+----------+------+------+\n\n"
     ]
    }
   ],
   "source": [
    "#Method 3: Using select() method\n",
    "\n",
    "# Import col method from pyspark.sql.functions\n",
    "from pyspark.sql.functions import col\n",
    " \n",
    "# Select the 'salary' as 'Amount' using aliasing\n",
    "# Select remaining with their original name\n",
    "data = df.select(col(\"Name\"),col(\"DOB\"),col(\"Gender\"),col(\"salary\").alias('Amount'))\n",
    "data.show()"
   ]
  },
  {
   "cell_type": "code",
   "execution_count": 0,
   "metadata": {
    "application/vnd.databricks.v1+cell": {
     "cellMetadata": {
      "byteLimit": 2048000,
      "rowLimit": 10000
     },
     "inputWidgets": {},
     "nuid": "a106e9ea-3d4d-4c3c-b6ca-ac862e3185a1",
     "showTitle": false,
     "title": ""
    }
   },
   "outputs": [
    {
     "output_type": "stream",
     "name": "stdout",
     "output_type": "stream",
     "text": [
      "+--------+-------------+-----------+-----------+\n|Emp Name|Date of Birth| Gender-m/f|Paid salary|\n+--------+-------------+-----------+-----------+\n|     Ram|   1991-04-01|          M|       3000|\n|    Mike|   2000-05-19|          M|       4000|\n|  Rohini|   1978-09-05|          M|       4000|\n|   Maria|   1967-12-01|          F|       4000|\n|   Jenis|   1980-02-17|          F|       1200|\n+--------+-------------+-----------+-----------+\n\n"
     ]
    }
   ],
   "source": [
    "#Method 4: Using toDF()\n",
    "\n",
    "Data_list = [\"Emp Name\",\"Date of Birth\",\n",
    "             \" Gender-m/f\",\"Paid salary\"]\n",
    " \n",
    "new_df = df.toDF(*Data_list)\n",
    "new_df.show()"
   ]
  },
  {
   "cell_type": "code",
   "execution_count": 0,
   "metadata": {
    "application/vnd.databricks.v1+cell": {
     "cellMetadata": {},
     "inputWidgets": {},
     "nuid": "20be3390-054c-4b7e-a3c8-31e1a724820b",
     "showTitle": false,
     "title": ""
    }
   },
   "outputs": [],
   "source": []
  }
 ],
 "metadata": {
  "application/vnd.databricks.v1+notebook": {
   "dashboards": [],
   "language": "python",
   "notebookMetadata": {
    "pythonIndentUnit": 4
   },
   "notebookName": "Selecting, Renaming, Filtering Data in a Pandas Data Frame Hands on Day 14",
   "widgets": {}
  }
 },
 "nbformat": 4,
 "nbformat_minor": 0
}

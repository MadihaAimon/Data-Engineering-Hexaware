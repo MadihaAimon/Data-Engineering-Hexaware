{
 "cells": [
  {
   "cell_type": "code",
   "execution_count": 1,
   "id": "76255eac",
   "metadata": {},
   "outputs": [],
   "source": [
    "from pyspark.sql import SparkSession"
   ]
  },
  {
   "cell_type": "code",
   "execution_count": 2,
   "id": "8ff4fda1",
   "metadata": {},
   "outputs": [],
   "source": [
    "spark = SparkSession.builder.appName(\"Practice\").getOrCreate()"
   ]
  },
  {
   "cell_type": "code",
   "execution_count": 3,
   "id": "b7508751",
   "metadata": {},
   "outputs": [],
   "source": [
    "df_spark = spark.read.csv(\"C:\\\\Users\\\\madih\\\\Desktop\\\\Data Engineering\\\\PySpark\\\\Jupyter practice\\\\table.csv.xls\",header = True,inferSchema = True)"
   ]
  },
  {
   "cell_type": "code",
   "execution_count": 4,
   "id": "af5e6048",
   "metadata": {},
   "outputs": [
    {
     "name": "stdout",
     "output_type": "stream",
     "text": [
      "+------------+-----------+\n",
      "| Departments|sum(salary)|\n",
      "+------------+-----------+\n",
      "|         IOT|      15000|\n",
      "|data Science|       1000|\n",
      "|    Big Data|      13000|\n",
      "|    Big Data|       2000|\n",
      "|Data Science|      16000|\n",
      "+------------+-----------+\n",
      "\n"
     ]
    }
   ],
   "source": [
    "df_spark.groupBy(\"Departments\").sum(\"salary\").show()"
   ]
  },
  {
   "cell_type": "code",
   "execution_count": 5,
   "id": "a689b42a",
   "metadata": {},
   "outputs": [
    {
     "name": "stdout",
     "output_type": "stream",
     "text": [
      "+------------+-----------+\n",
      "| Departments|min(salary)|\n",
      "+------------+-----------+\n",
      "|         IOT|       5000|\n",
      "|data Science|       1000|\n",
      "|    Big Data|       4000|\n",
      "|    Big Data|       2000|\n",
      "|Data Science|       3000|\n",
      "+------------+-----------+\n",
      "\n"
     ]
    }
   ],
   "source": [
    "df_spark.groupBy(\"Departments\").min(\"salary\").show()"
   ]
  },
  {
   "cell_type": "code",
   "execution_count": 6,
   "id": "7dfbf5dd",
   "metadata": {},
   "outputs": [
    {
     "name": "stdout",
     "output_type": "stream",
     "text": [
      "+------------+-----------+\n",
      "| Departments|max(salary)|\n",
      "+------------+-----------+\n",
      "|         IOT|      10000|\n",
      "|data Science|       1000|\n",
      "|    Big Data|       5000|\n",
      "|    Big Data|       2000|\n",
      "|Data Science|      10000|\n",
      "+------------+-----------+\n",
      "\n"
     ]
    }
   ],
   "source": [
    "df_spark.groupBy(\"Departments\").max(\"salary\").show()"
   ]
  },
  {
   "cell_type": "code",
   "execution_count": 7,
   "id": "596b61da",
   "metadata": {},
   "outputs": [
    {
     "name": "stdout",
     "output_type": "stream",
     "text": [
      "+------------+-----------------+\n",
      "| Departments|      avg(salary)|\n",
      "+------------+-----------------+\n",
      "|         IOT|           7500.0|\n",
      "|data Science|           1000.0|\n",
      "|    Big Data|4333.333333333333|\n",
      "|    Big Data|           2000.0|\n",
      "|Data Science|5333.333333333333|\n",
      "+------------+-----------------+\n",
      "\n"
     ]
    }
   ],
   "source": [
    "df_spark.groupBy(\"Departments\").mean(\"salary\").show()"
   ]
  },
  {
   "cell_type": "code",
   "execution_count": 8,
   "id": "885ab21b",
   "metadata": {},
   "outputs": [
    {
     "name": "stdout",
     "output_type": "stream",
     "text": [
      "+------------+-----+\n",
      "| Departments|count|\n",
      "+------------+-----+\n",
      "|         IOT|    2|\n",
      "|data Science|    1|\n",
      "|    Big Data|    3|\n",
      "|    Big Data|    1|\n",
      "|Data Science|    3|\n",
      "+------------+-----+\n",
      "\n"
     ]
    }
   ],
   "source": [
    "df_spark.groupBy(\"Departments\").count().show()"
   ]
  },
  {
   "cell_type": "code",
   "execution_count": 9,
   "id": "c400f1e3",
   "metadata": {},
   "outputs": [
    {
     "name": "stdout",
     "output_type": "stream",
     "text": [
      "+-------+------------+-----------+\n",
      "|   Name| Departments|sum(salary)|\n",
      "+-------+------------+-----------+\n",
      "| Rohith|Data Science|       3000|\n",
      "|rashmi |    Big Data|       2000|\n",
      "| Rohith|    Big Data|       4000|\n",
      "| rashmi|Data Science|      10000|\n",
      "|Krishna|    Big Data|       5000|\n",
      "|Krishna|Data Science|       3000|\n",
      "|Chandhu|         IOT|       5000|\n",
      "|Krishna|         IOT|      10000|\n",
      "|Chandhu|    Big Data|       4000|\n",
      "|Chandhu|data Science|       1000|\n",
      "+-------+------------+-----------+\n",
      "\n"
     ]
    }
   ],
   "source": [
    "df_spark.groupBy(\"Name\",\"Departments\").sum(\"salary\").show()"
   ]
  },
  {
   "cell_type": "code",
   "execution_count": 10,
   "id": "5e2ee6eb",
   "metadata": {},
   "outputs": [
    {
     "name": "stdout",
     "output_type": "stream",
     "text": [
      "+------------+-----------+\n",
      "| Departments|sum(salary)|\n",
      "+------------+-----------+\n",
      "|         IOT|      15000|\n",
      "|data Science|       1000|\n",
      "|    Big Data|      13000|\n",
      "|    Big Data|       2000|\n",
      "|Data Science|      16000|\n",
      "+------------+-----------+\n",
      "\n"
     ]
    }
   ],
   "source": [
    "df_spark.groupBy(\"Departments\").agg(({\"salary\":\"sum\"})).show()\n"
   ]
  },
  {
   "cell_type": "code",
   "execution_count": 11,
   "id": "7ff10cc8",
   "metadata": {},
   "outputs": [
    {
     "name": "stdout",
     "output_type": "stream",
     "text": [
      "+------------+-------+-------+------+------+-------+\n",
      "| Departments|Chandhu|Krishna|Rohith|rashmi|rashmi |\n",
      "+------------+-------+-------+------+------+-------+\n",
      "|         IOT|   5000|  10000|  NULL|  NULL|   NULL|\n",
      "|data Science|   1000|   NULL|  NULL|  NULL|   NULL|\n",
      "|    Big Data|   4000|   5000|  4000|  NULL|   NULL|\n",
      "|    Big Data|   NULL|   NULL|  NULL|  NULL|   2000|\n",
      "|Data Science|   NULL|   3000|  3000| 10000|   NULL|\n",
      "+------------+-------+-------+------+------+-------+\n",
      "\n"
     ]
    }
   ],
   "source": [
    "df_spark.groupBy(\"Departments\").pivot(\"Name\").sum(\"salary\").show()"
   ]
  },
  {
   "cell_type": "code",
   "execution_count": 12,
   "id": "3147c075",
   "metadata": {},
   "outputs": [
    {
     "name": "stdout",
     "output_type": "stream",
     "text": [
      "+-------+------------+------+\n",
      "|   name| Departments|salary|\n",
      "+-------+------------+------+\n",
      "|Chandhu|data Science|  1000|\n",
      "|Chandhu|         IOT|  5000|\n",
      "| Rohith|    Big Data|  4000|\n",
      "|Chandhu|    Big Data|  4000|\n",
      "| Rohith|Data Science|  3000|\n",
      "|Krishna|Data Science|  3000|\n",
      "|Krishna|         IOT| 10000|\n",
      "|Krishna|    Big Data|  5000|\n",
      "| rashmi|Data Science| 10000|\n",
      "|rashmi |    Big Data|  2000|\n",
      "+-------+------------+------+\n",
      "\n"
     ]
    }
   ],
   "source": [
    "df_spark1=spark.read.csv(\"C:\\\\Users\\\\madih\\\\Desktop\\\\Data Engineering\\\\PySpark\\\\Jupyter practice\\\\table.csv.xls\",header=True,inferSchema=True)\n",
    "df_spark1.show()"
   ]
  },
  {
   "cell_type": "code",
   "execution_count": 13,
   "id": "34a6a0c9",
   "metadata": {},
   "outputs": [
    {
     "name": "stdout",
     "output_type": "stream",
     "text": [
      "+-------+------------+------+\n",
      "|   name| Departments|salary|\n",
      "+-------+------------+------+\n",
      "|Chandhu|data Science|  1000|\n",
      "|Chandhu|         IOT|  5000|\n",
      "| Rohith|    Big Data|  4000|\n",
      "|Chandhu|    Big Data|  4000|\n",
      "| Rohith|Data Science|  3000|\n",
      "|Krishna|Data Science|  3000|\n",
      "|Krishna|         IOT| 10000|\n",
      "|Krishna|    Big Data|  5000|\n",
      "| rashmi|Data Science| 10000|\n",
      "|rashmi |    Big Data|  2000|\n",
      "+-------+------------+------+\n",
      "\n"
     ]
    }
   ],
   "source": [
    "df_spark1.na.drop().show()"
   ]
  },
  {
   "cell_type": "code",
   "execution_count": 14,
   "id": "bd7fe3ca",
   "metadata": {},
   "outputs": [
    {
     "name": "stdout",
     "output_type": "stream",
     "text": [
      "+-------+------------+------+\n",
      "|   name| Departments|salary|\n",
      "+-------+------------+------+\n",
      "|Chandhu|data Science|  1000|\n",
      "|Chandhu|         IOT|  5000|\n",
      "| Rohith|    Big Data|  4000|\n",
      "|Chandhu|    Big Data|  4000|\n",
      "| Rohith|Data Science|  3000|\n",
      "|Krishna|Data Science|  3000|\n",
      "|Krishna|         IOT| 10000|\n",
      "|Krishna|    Big Data|  5000|\n",
      "| rashmi|Data Science| 10000|\n",
      "|rashmi |    Big Data|  2000|\n",
      "+-------+------------+------+\n",
      "\n",
      "+-------+------------+------+\n",
      "|   name| Departments|salary|\n",
      "+-------+------------+------+\n",
      "|Chandhu|data Science|  1000|\n",
      "|Chandhu|         IOT|  5000|\n",
      "| Rohith|    Big Data|  4000|\n",
      "|Chandhu|    Big Data|  4000|\n",
      "| Rohith|Data Science|  3000|\n",
      "|Krishna|Data Science|  3000|\n",
      "|Krishna|         IOT| 10000|\n",
      "|Krishna|    Big Data|  5000|\n",
      "| rashmi|Data Science| 10000|\n",
      "|rashmi |    Big Data|  2000|\n",
      "+-------+------------+------+\n",
      "\n"
     ]
    }
   ],
   "source": [
    "df_spark1.na.drop(how=\"all\").show()\n",
    " # if all values in rows are null then drop # default any\n",
    "df_spark1.na.drop(how=\"any\",thresh=2).show() \n",
    "#atleast 2 non null values should be present. df_pyspark1.na.drop(how=\"any\",subset=[\"salary\"]).show()\n",
    " # only in that column rows get deleted\n"
   ]
  },
  {
   "cell_type": "code",
   "execution_count": 15,
   "id": "4345ee23",
   "metadata": {},
   "outputs": [
    {
     "name": "stdout",
     "output_type": "stream",
     "text": [
      "+-------+------------+------+\n",
      "|   name| Departments|salary|\n",
      "+-------+------------+------+\n",
      "|Chandhu|data Science|  1000|\n",
      "|Chandhu|         IOT|  5000|\n",
      "| Rohith|    Big Data|  4000|\n",
      "|Chandhu|    Big Data|  4000|\n",
      "| Rohith|Data Science|  3000|\n",
      "|Krishna|Data Science|  3000|\n",
      "|Krishna|         IOT| 10000|\n",
      "|Krishna|    Big Data|  5000|\n",
      "| rashmi|Data Science| 10000|\n",
      "|rashmi |    Big Data|  2000|\n",
      "+-------+------------+------+\n",
      "\n"
     ]
    }
   ],
   "source": [
    "df_spark1.na.fill('Missing Values').show()  #string values will get replaced as string is given as inputdf_pyspark1.na.fill(0).show()\n",
    "#integer values will get replaced as integer is given as input"
   ]
  },
  {
   "cell_type": "code",
   "execution_count": 16,
   "id": "0a60883f",
   "metadata": {},
   "outputs": [
    {
     "name": "stdout",
     "output_type": "stream",
     "text": [
      "+-------+------------+------+\n",
      "|   name| Departments|salary|\n",
      "+-------+------------+------+\n",
      "|Chandhu|data Science|  1000|\n",
      "|rashmi |    Big Data|  2000|\n",
      "| Rohith|Data Science|  3000|\n",
      "|Krishna|Data Science|  3000|\n",
      "| Rohith|    Big Data|  4000|\n",
      "|Chandhu|    Big Data|  4000|\n",
      "|Chandhu|         IOT|  5000|\n",
      "|Krishna|    Big Data|  5000|\n",
      "|Krishna|         IOT| 10000|\n",
      "| rashmi|Data Science| 10000|\n",
      "+-------+------------+------+\n",
      "\n",
      "+-------+------------+------+\n",
      "|   name| Departments|salary|\n",
      "+-------+------------+------+\n",
      "|Krishna|         IOT| 10000|\n",
      "| rashmi|Data Science| 10000|\n",
      "|Chandhu|         IOT|  5000|\n",
      "|Krishna|    Big Data|  5000|\n",
      "| Rohith|    Big Data|  4000|\n",
      "|Chandhu|    Big Data|  4000|\n",
      "| Rohith|Data Science|  3000|\n",
      "|Krishna|Data Science|  3000|\n",
      "|rashmi |    Big Data|  2000|\n",
      "|Chandhu|data Science|  1000|\n",
      "+-------+------------+------+\n",
      "\n",
      "+-------+------------+------+\n",
      "|   name| Departments|salary|\n",
      "+-------+------------+------+\n",
      "|Chandhu|data Science|  1000|\n",
      "|rashmi |    Big Data|  2000|\n",
      "|Krishna|Data Science|  3000|\n",
      "| Rohith|Data Science|  3000|\n",
      "|Chandhu|    Big Data|  4000|\n",
      "| Rohith|    Big Data|  4000|\n",
      "|Chandhu|         IOT|  5000|\n",
      "|Krishna|    Big Data|  5000|\n",
      "|Krishna|         IOT| 10000|\n",
      "| rashmi|Data Science| 10000|\n",
      "+-------+------------+------+\n",
      "\n"
     ]
    }
   ],
   "source": [
    "df_spark.sort(\"salary\").show() # Sort based on single column\n",
    "df_spark.sort(df_spark[\"salary\"].desc()).show() # sort based on descending order\n",
    "df_spark.sort(\"salary\",\"Name\").show() # Sort based on first column then second column\n"
   ]
  },
  {
   "cell_type": "code",
   "execution_count": 17,
   "id": "e9e4401a",
   "metadata": {},
   "outputs": [
    {
     "name": "stdout",
     "output_type": "stream",
     "text": [
      "+-------+------------+------+\n",
      "|   name| Departments|salary|\n",
      "+-------+------------+------+\n",
      "|Chandhu|data Science|  1000|\n",
      "|rashmi |    Big Data|  2000|\n",
      "| Rohith|Data Science|  3000|\n",
      "|Krishna|Data Science|  3000|\n",
      "| Rohith|    Big Data|  4000|\n",
      "|Chandhu|    Big Data|  4000|\n",
      "|Chandhu|         IOT|  5000|\n",
      "|Krishna|    Big Data|  5000|\n",
      "|Krishna|         IOT| 10000|\n",
      "| rashmi|Data Science| 10000|\n",
      "+-------+------------+------+\n",
      "\n"
     ]
    }
   ],
   "source": [
    "df_spark.orderBy(\"salary\").show() # Sort based on single column"
   ]
  },
  {
   "cell_type": "code",
   "execution_count": null,
   "id": "a6299b95",
   "metadata": {},
   "outputs": [],
   "source": []
  }
 ],
 "metadata": {
  "kernelspec": {
   "display_name": "Python 3 (ipykernel)",
   "language": "python",
   "name": "python3"
  },
  "language_info": {
   "codemirror_mode": {
    "name": "ipython",
    "version": 3
   },
   "file_extension": ".py",
   "mimetype": "text/x-python",
   "name": "python",
   "nbconvert_exporter": "python",
   "pygments_lexer": "ipython3",
   "version": "3.11.5"
  }
 },
 "nbformat": 4,
 "nbformat_minor": 5
}

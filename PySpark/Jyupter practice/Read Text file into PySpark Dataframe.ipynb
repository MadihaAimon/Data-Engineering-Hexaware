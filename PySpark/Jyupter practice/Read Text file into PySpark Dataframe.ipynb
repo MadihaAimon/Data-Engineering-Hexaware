{
 "cells": [
  {
   "cell_type": "code",
   "execution_count": 1,
   "id": "2e841b6a",
   "metadata": {},
   "outputs": [
    {
     "name": "stdout",
     "output_type": "stream",
     "text": [
      "+----------------------------+\n",
      "|Text_Data_In_Rows_Using_Text|\n",
      "+----------------------------+\n",
      "|[name,Departments,salary]   |\n",
      "|[Chandhu,data, Science,1000]|\n",
      "|[rashmi,Big, Data,2000]     |\n",
      "|[Rohitt,Data, Science,3000] |\n",
      "+----------------------------+\n",
      "only showing top 4 rows\n",
      "\n"
     ]
    }
   ],
   "source": [
    "from pyspark.sql import SparkSession \n",
    "  \n",
    "spark = SparkSession.builder.appName(\"DataFrame\").getOrCreate() \n",
    "  \n",
    "df = spark.read.text(\"C:\\\\Users\\\\madih\\\\Desktop\\\\Data Engineering\\\\PySpark\\\\Jyupter practice\\\\department - Copy.txt\") \n",
    "  \n",
    "df.selectExpr(\"split(value, ' ') as Text_Data_In_Rows_Using_Text\").show(4,False)"
   ]
  },
  {
   "cell_type": "code",
   "execution_count": 2,
   "id": "71b73d6a",
   "metadata": {},
   "outputs": [
    {
     "name": "stdout",
     "output_type": "stream",
     "text": [
      "+---------------------------+\n",
      "|Text_Data_In_Rows_Using_CSV|\n",
      "+---------------------------+\n",
      "|[name]                     |\n",
      "|[Chandhu]                  |\n",
      "|[rashmi]                   |\n",
      "|[Rohitt]                   |\n",
      "+---------------------------+\n",
      "only showing top 4 rows\n",
      "\n"
     ]
    }
   ],
   "source": [
    "from pyspark.sql import SparkSession \n",
    "  \n",
    "spark = SparkSession.builder.getOrCreate() \n",
    "  \n",
    "df = spark.read.csv(\"C:\\\\Users\\\\madih\\\\Desktop\\\\Data Engineering\\\\PySpark\\\\Jyupter practice\\\\department - Copy.txt\") \n",
    "  \n",
    "df.selectExpr(\"split(_c0, ' ') as Text_Data_In_Rows_Using_CSV\").show(4,False)"
   ]
  },
  {
   "cell_type": "code",
   "execution_count": 3,
   "id": "e7b7e123",
   "metadata": {},
   "outputs": [
    {
     "name": "stdout",
     "output_type": "stream",
     "text": [
      "+-----------------------------------+\n",
      "|Text_Data_In_Rows_Using_format_load|\n",
      "+-----------------------------------+\n",
      "|[name,Departments,salary]          |\n",
      "|[Chandhu,data, Science,1000]       |\n",
      "|[rashmi,Big, Data,2000]            |\n",
      "|[Rohitt,Data, Science,3000]        |\n",
      "+-----------------------------------+\n",
      "only showing top 4 rows\n",
      "\n"
     ]
    }
   ],
   "source": [
    "from pyspark.sql import SparkSession \n",
    "  \n",
    "spark = SparkSession.builder.getOrCreate() \n",
    "  \n",
    "df = spark.read.format(\"text\").load(\"C:\\\\Users\\\\madih\\\\Desktop\\\\Data Engineering\\\\PySpark\\\\Jyupter practice\\\\department - Copy.txt\") \n",
    "  \n",
    "df.selectExpr(\"split(value, ' ') as Text_Data_In_Rows_Using_format_load\").show(4,False)"
   ]
  },
  {
   "cell_type": "code",
   "execution_count": null,
   "id": "5ea2f505",
   "metadata": {},
   "outputs": [],
   "source": [
    "\n"
   ]
  },
  {
   "cell_type": "code",
   "execution_count": null,
   "id": "c7db3c50",
   "metadata": {},
   "outputs": [],
   "source": []
  },
  {
   "cell_type": "code",
   "execution_count": null,
   "id": "55c04431",
   "metadata": {},
   "outputs": [],
   "source": []
  }
 ],
 "metadata": {
  "kernelspec": {
   "display_name": "Python 3 (ipykernel)",
   "language": "python",
   "name": "python3"
  },
  "language_info": {
   "codemirror_mode": {
    "name": "ipython",
    "version": 3
   },
   "file_extension": ".py",
   "mimetype": "text/x-python",
   "name": "python",
   "nbconvert_exporter": "python",
   "pygments_lexer": "ipython3",
   "version": "3.11.5"
  }
 },
 "nbformat": 4,
 "nbformat_minor": 5
}

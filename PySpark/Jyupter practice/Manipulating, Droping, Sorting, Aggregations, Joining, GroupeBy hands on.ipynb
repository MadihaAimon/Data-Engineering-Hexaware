{
 "cells": [
  {
   "cell_type": "code",
   "execution_count": 9,
   "id": "54a14058",
   "metadata": {},
   "outputs": [],
   "source": [
    "from pyspark.sql import SparkSession"
   ]
  },
  {
   "cell_type": "code",
   "execution_count": 10,
   "id": "0c4d44bf",
   "metadata": {},
   "outputs": [],
   "source": [
    "spark = SparkSession.builder.appName(\"Practice\").getOrCreate()"
   ]
  },
  {
   "cell_type": "code",
   "execution_count": 11,
   "id": "a54d05a8",
   "metadata": {},
   "outputs": [],
   "source": [
    "df_spark = spark.read.csv(\"C:\\\\Users\\\\madih\\\\Desktop\\\\Data Engineering\\\\PySpark\\\\Jupyter practice\\\\table.csv.xls\",header = True,inferSchema = True)"
   ]
  },
  {
   "cell_type": "code",
   "execution_count": 12,
   "id": "a4200624",
   "metadata": {},
   "outputs": [
    {
     "name": "stdout",
     "output_type": "stream",
     "text": [
      "+------------+-----------+\n",
      "| Departments|sum(salary)|\n",
      "+------------+-----------+\n",
      "|         IOT|      15000|\n",
      "|data Science|       1000|\n",
      "|    Big Data|      13000|\n",
      "|    Big Data|       2000|\n",
      "|Data Science|      16000|\n",
      "+------------+-----------+\n",
      "\n"
     ]
    }
   ],
   "source": [
    "df_spark.groupBy(\"Departments\").sum(\"salary\").show()"
   ]
  },
  {
   "cell_type": "code",
   "execution_count": 13,
   "id": "2d21b9bc",
   "metadata": {},
   "outputs": [
    {
     "name": "stdout",
     "output_type": "stream",
     "text": [
      "+------------+-----------+\n",
      "| Departments|min(salary)|\n",
      "+------------+-----------+\n",
      "|         IOT|       5000|\n",
      "|data Science|       1000|\n",
      "|    Big Data|       4000|\n",
      "|    Big Data|       2000|\n",
      "|Data Science|       3000|\n",
      "+------------+-----------+\n",
      "\n"
     ]
    }
   ],
   "source": [
    "df_spark.groupBy(\"Departments\").min(\"salary\").show()"
   ]
  },
  {
   "cell_type": "code",
   "execution_count": 14,
   "id": "850c4854",
   "metadata": {},
   "outputs": [
    {
     "name": "stdout",
     "output_type": "stream",
     "text": [
      "+------------+-----------+\n",
      "| Departments|max(salary)|\n",
      "+------------+-----------+\n",
      "|         IOT|      10000|\n",
      "|data Science|       1000|\n",
      "|    Big Data|       5000|\n",
      "|    Big Data|       2000|\n",
      "|Data Science|      10000|\n",
      "+------------+-----------+\n",
      "\n"
     ]
    }
   ],
   "source": [
    "df_spark.groupBy(\"Departments\").max(\"salary\").show()"
   ]
  },
  {
   "cell_type": "code",
   "execution_count": 15,
   "id": "9a7f303a",
   "metadata": {},
   "outputs": [
    {
     "name": "stdout",
     "output_type": "stream",
     "text": [
      "+------------+-----------------+\n",
      "| Departments|      avg(salary)|\n",
      "+------------+-----------------+\n",
      "|         IOT|           7500.0|\n",
      "|data Science|           1000.0|\n",
      "|    Big Data|4333.333333333333|\n",
      "|    Big Data|           2000.0|\n",
      "|Data Science|5333.333333333333|\n",
      "+------------+-----------------+\n",
      "\n"
     ]
    }
   ],
   "source": [
    "df_spark.groupBy(\"Departments\").mean(\"salary\").show()"
   ]
  },
  {
   "cell_type": "code",
   "execution_count": 16,
   "id": "854fb131",
   "metadata": {},
   "outputs": [
    {
     "name": "stdout",
     "output_type": "stream",
     "text": [
      "+------------+-----+\n",
      "| Departments|count|\n",
      "+------------+-----+\n",
      "|         IOT|    2|\n",
      "|data Science|    1|\n",
      "|    Big Data|    3|\n",
      "|    Big Data|    1|\n",
      "|Data Science|    3|\n",
      "+------------+-----+\n",
      "\n"
     ]
    }
   ],
   "source": [
    "df_spark.groupBy(\"Departments\").count().show()"
   ]
  },
  {
   "cell_type": "code",
   "execution_count": 17,
   "id": "aab75033",
   "metadata": {},
   "outputs": [
    {
     "name": "stdout",
     "output_type": "stream",
     "text": [
      "+-------+------------+-----------+\n",
      "|   Name| Departments|sum(salary)|\n",
      "+-------+------------+-----------+\n",
      "| Rohith|Data Science|       3000|\n",
      "|rashmi |    Big Data|       2000|\n",
      "| Rohith|    Big Data|       4000|\n",
      "| rashmi|Data Science|      10000|\n",
      "|Krishna|    Big Data|       5000|\n",
      "|Krishna|Data Science|       3000|\n",
      "|Chandhu|         IOT|       5000|\n",
      "|Krishna|         IOT|      10000|\n",
      "|Chandhu|    Big Data|       4000|\n",
      "|Chandhu|data Science|       1000|\n",
      "+-------+------------+-----------+\n",
      "\n"
     ]
    }
   ],
   "source": [
    "df_spark.groupBy(\"Name\",\"Departments\").sum(\"salary\").show()\n"
   ]
  },
  {
   "cell_type": "code",
   "execution_count": 18,
   "id": "12fd3d9c",
   "metadata": {},
   "outputs": [
    {
     "name": "stdout",
     "output_type": "stream",
     "text": [
      "+------------+-----------+\n",
      "| Departments|sum(salary)|\n",
      "+------------+-----------+\n",
      "|         IOT|      15000|\n",
      "|data Science|       1000|\n",
      "|    Big Data|      13000|\n",
      "|    Big Data|       2000|\n",
      "|Data Science|      16000|\n",
      "+------------+-----------+\n",
      "\n"
     ]
    }
   ],
   "source": [
    "df_spark.groupBy(\"Departments\").agg(({\"salary\":\"sum\"})).show()\n"
   ]
  },
  {
   "cell_type": "code",
   "execution_count": 19,
   "id": "8c9ad7b6",
   "metadata": {},
   "outputs": [
    {
     "name": "stdout",
     "output_type": "stream",
     "text": [
      "+------------+-------+-------+------+------+-------+\n",
      "| Departments|Chandhu|Krishna|Rohith|rashmi|rashmi |\n",
      "+------------+-------+-------+------+------+-------+\n",
      "|         IOT|   5000|  10000|  NULL|  NULL|   NULL|\n",
      "|data Science|   1000|   NULL|  NULL|  NULL|   NULL|\n",
      "|    Big Data|   4000|   5000|  4000|  NULL|   NULL|\n",
      "|    Big Data|   NULL|   NULL|  NULL|  NULL|   2000|\n",
      "|Data Science|   NULL|   3000|  3000| 10000|   NULL|\n",
      "+------------+-------+-------+------+------+-------+\n",
      "\n"
     ]
    }
   ],
   "source": [
    "df_spark.groupBy(\"Departments\").pivot(\"Name\").sum(\"salary\").show()\n"
   ]
  },
  {
   "cell_type": "code",
   "execution_count": 21,
   "id": "fda6b388",
   "metadata": {},
   "outputs": [
    {
     "name": "stdout",
     "output_type": "stream",
     "text": [
      "+-------+------------+------+\n",
      "|   name| Departments|salary|\n",
      "+-------+------------+------+\n",
      "|Chandhu|data Science|  1000|\n",
      "|Chandhu|         IOT|  5000|\n",
      "| Rohith|    Big Data|  4000|\n",
      "|Chandhu|    Big Data|  4000|\n",
      "| Rohith|Data Science|  3000|\n",
      "|Krishna|Data Science|  3000|\n",
      "|Krishna|         IOT| 10000|\n",
      "|Krishna|    Big Data|  5000|\n",
      "| rashmi|Data Science| 10000|\n",
      "|rashmi |    Big Data|  2000|\n",
      "+-------+------------+------+\n",
      "\n"
     ]
    }
   ],
   "source": [
    "df_spark1=spark.read.csv(\"C:\\\\Users\\\\madih\\\\Desktop\\\\Data Engineering\\\\PySpark\\\\Jupyter practice\\\\table.csv.xls\",header=True,inferSchema=True)\n",
    "df_spark1.show()"
   ]
  },
  {
   "cell_type": "code",
   "execution_count": 22,
   "id": "a09f92a2",
   "metadata": {},
   "outputs": [
    {
     "name": "stdout",
     "output_type": "stream",
     "text": [
      "+-------+------------+------+\n",
      "|   name| Departments|salary|\n",
      "+-------+------------+------+\n",
      "|Chandhu|data Science|  1000|\n",
      "|Chandhu|         IOT|  5000|\n",
      "| Rohith|    Big Data|  4000|\n",
      "|Chandhu|    Big Data|  4000|\n",
      "| Rohith|Data Science|  3000|\n",
      "|Krishna|Data Science|  3000|\n",
      "|Krishna|         IOT| 10000|\n",
      "|Krishna|    Big Data|  5000|\n",
      "| rashmi|Data Science| 10000|\n",
      "|rashmi |    Big Data|  2000|\n",
      "+-------+------------+------+\n",
      "\n"
     ]
    }
   ],
   "source": [
    "df_spark1.na.drop().show()\n"
   ]
  },
  {
   "cell_type": "code",
   "execution_count": 23,
   "id": "da0c4bc6",
   "metadata": {},
   "outputs": [
    {
     "name": "stdout",
     "output_type": "stream",
     "text": [
      "+-------+------------+------+\n",
      "|   name| Departments|salary|\n",
      "+-------+------------+------+\n",
      "|Chandhu|data Science|  1000|\n",
      "|Chandhu|         IOT|  5000|\n",
      "| Rohith|    Big Data|  4000|\n",
      "|Chandhu|    Big Data|  4000|\n",
      "| Rohith|Data Science|  3000|\n",
      "|Krishna|Data Science|  3000|\n",
      "|Krishna|         IOT| 10000|\n",
      "|Krishna|    Big Data|  5000|\n",
      "| rashmi|Data Science| 10000|\n",
      "|rashmi |    Big Data|  2000|\n",
      "+-------+------------+------+\n",
      "\n",
      "+-------+------------+------+\n",
      "|   name| Departments|salary|\n",
      "+-------+------------+------+\n",
      "|Chandhu|data Science|  1000|\n",
      "|Chandhu|         IOT|  5000|\n",
      "| Rohith|    Big Data|  4000|\n",
      "|Chandhu|    Big Data|  4000|\n",
      "| Rohith|Data Science|  3000|\n",
      "|Krishna|Data Science|  3000|\n",
      "|Krishna|         IOT| 10000|\n",
      "|Krishna|    Big Data|  5000|\n",
      "| rashmi|Data Science| 10000|\n",
      "|rashmi |    Big Data|  2000|\n",
      "+-------+------------+------+\n",
      "\n"
     ]
    }
   ],
   "source": [
    "df_spark1.na.drop(how=\"all\").show()\n",
    " # if all values in rows are null then drop # default any\n",
    "df_spark1.na.drop(how=\"any\",thresh=2).show() \n",
    "#atleast 2 non null values should be present. df_pyspark1.na.drop(how=\"any\",subset=[\"salary\"]).show()\n",
    " # only in that column rows get deleted\n"
   ]
  },
  {
   "cell_type": "code",
   "execution_count": 24,
   "id": "5304f19f",
   "metadata": {},
   "outputs": [
    {
     "name": "stdout",
     "output_type": "stream",
     "text": [
      "+-------+------------+------+\n",
      "|   name| Departments|salary|\n",
      "+-------+------------+------+\n",
      "|Chandhu|data Science|  1000|\n",
      "|Chandhu|         IOT|  5000|\n",
      "| Rohith|    Big Data|  4000|\n",
      "|Chandhu|    Big Data|  4000|\n",
      "| Rohith|Data Science|  3000|\n",
      "|Krishna|Data Science|  3000|\n",
      "|Krishna|         IOT| 10000|\n",
      "|Krishna|    Big Data|  5000|\n",
      "| rashmi|Data Science| 10000|\n",
      "|rashmi |    Big Data|  2000|\n",
      "+-------+------------+------+\n",
      "\n"
     ]
    }
   ],
   "source": [
    "df_spark1.na.fill('Missing Values').show()  #string values will get replaced as string is given as inputdf_pyspark1.na.fill(0).show()\n",
    "#integer values will get replaced as integer is given as input\n"
   ]
  },
  {
   "cell_type": "code",
   "execution_count": null,
   "id": "8d00edce",
   "metadata": {},
   "outputs": [],
   "source": []
  },
  {
   "cell_type": "code",
   "execution_count": 25,
   "id": "733136e2",
   "metadata": {},
   "outputs": [
    {
     "name": "stdout",
     "output_type": "stream",
     "text": [
      "+-------+------------+------+\n",
      "|   name| Departments|salary|\n",
      "+-------+------------+------+\n",
      "|Chandhu|data Science|  1000|\n",
      "|rashmi |    Big Data|  2000|\n",
      "| Rohith|Data Science|  3000|\n",
      "|Krishna|Data Science|  3000|\n",
      "| Rohith|    Big Data|  4000|\n",
      "|Chandhu|    Big Data|  4000|\n",
      "|Chandhu|         IOT|  5000|\n",
      "|Krishna|    Big Data|  5000|\n",
      "|Krishna|         IOT| 10000|\n",
      "| rashmi|Data Science| 10000|\n",
      "+-------+------------+------+\n",
      "\n",
      "+-------+------------+------+\n",
      "|   name| Departments|salary|\n",
      "+-------+------------+------+\n",
      "|Krishna|         IOT| 10000|\n",
      "| rashmi|Data Science| 10000|\n",
      "|Chandhu|         IOT|  5000|\n",
      "|Krishna|    Big Data|  5000|\n",
      "| Rohith|    Big Data|  4000|\n",
      "|Chandhu|    Big Data|  4000|\n",
      "| Rohith|Data Science|  3000|\n",
      "|Krishna|Data Science|  3000|\n",
      "|rashmi |    Big Data|  2000|\n",
      "|Chandhu|data Science|  1000|\n",
      "+-------+------------+------+\n",
      "\n",
      "+-------+------------+------+\n",
      "|   name| Departments|salary|\n",
      "+-------+------------+------+\n",
      "|Chandhu|data Science|  1000|\n",
      "|rashmi |    Big Data|  2000|\n",
      "|Krishna|Data Science|  3000|\n",
      "| Rohith|Data Science|  3000|\n",
      "|Chandhu|    Big Data|  4000|\n",
      "| Rohith|    Big Data|  4000|\n",
      "|Chandhu|         IOT|  5000|\n",
      "|Krishna|    Big Data|  5000|\n",
      "|Krishna|         IOT| 10000|\n",
      "| rashmi|Data Science| 10000|\n",
      "+-------+------------+------+\n",
      "\n"
     ]
    }
   ],
   "source": [
    "df_spark.sort(\"salary\").show() # Sort based on single column\n",
    "df_spark.sort(df_spark[\"salary\"].desc()).show() # sort based on descending order\n",
    "df_spark.sort(\"salary\",\"Name\").show() # Sort based on first column then second column\n"
   ]
  },
  {
   "cell_type": "code",
   "execution_count": 26,
   "id": "4cb85fca",
   "metadata": {},
   "outputs": [
    {
     "name": "stdout",
     "output_type": "stream",
     "text": [
      "+-------+------------+------+\n",
      "|   name| Departments|salary|\n",
      "+-------+------------+------+\n",
      "|Chandhu|data Science|  1000|\n",
      "|rashmi |    Big Data|  2000|\n",
      "| Rohith|Data Science|  3000|\n",
      "|Krishna|Data Science|  3000|\n",
      "| Rohith|    Big Data|  4000|\n",
      "|Chandhu|    Big Data|  4000|\n",
      "|Chandhu|         IOT|  5000|\n",
      "|Krishna|    Big Data|  5000|\n",
      "|Krishna|         IOT| 10000|\n",
      "| rashmi|Data Science| 10000|\n",
      "+-------+------------+------+\n",
      "\n"
     ]
    }
   ],
   "source": [
    "df_spark.orderBy(\"salary\").show() # Sort based on single column"
   ]
  },
  {
   "cell_type": "code",
   "execution_count": null,
   "id": "2a0b9ab8",
   "metadata": {},
   "outputs": [],
   "source": []
  },
  {
   "cell_type": "code",
   "execution_count": null,
   "id": "c82ad0dc",
   "metadata": {},
   "outputs": [],
   "source": []
  },
  {
   "cell_type": "code",
   "execution_count": null,
   "id": "d6e3ab39",
   "metadata": {},
   "outputs": [],
   "source": []
  },
  {
   "cell_type": "code",
   "execution_count": null,
   "id": "14867c46",
   "metadata": {},
   "outputs": [],
   "source": []
  },
  {
   "cell_type": "code",
   "execution_count": null,
   "id": "eab59f1d",
   "metadata": {},
   "outputs": [],
   "source": []
  }
 ],
 "metadata": {
  "kernelspec": {
   "display_name": "Python 3 (ipykernel)",
   "language": "python",
   "name": "python3"
  },
  "language_info": {
   "codemirror_mode": {
    "name": "ipython",
    "version": 3
   },
   "file_extension": ".py",
   "mimetype": "text/x-python",
   "name": "python",
   "nbconvert_exporter": "python",
   "pygments_lexer": "ipython3",
   "version": "3.11.5"
  }
 },
 "nbformat": 4,
 "nbformat_minor": 5
}

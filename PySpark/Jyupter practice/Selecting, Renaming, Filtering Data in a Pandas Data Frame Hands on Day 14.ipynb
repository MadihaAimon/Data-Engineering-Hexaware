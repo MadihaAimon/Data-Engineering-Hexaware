{
 "cells": [
  {
   "cell_type": "code",
   "execution_count": 3,
   "id": "820e96bf",
   "metadata": {},
   "outputs": [
    {
     "name": "stdout",
     "output_type": "stream",
     "text": [
      "+------+----------+------+------+\n",
      "|  Name|       DOB|Gender|salary|\n",
      "+------+----------+------+------+\n",
      "|   Ram|1991-04-01|     M|  3000|\n",
      "|  Mike|2000-05-19|     M|  4000|\n",
      "|Rohini|1978-09-05|     M|  4000|\n",
      "| Maria|1967-12-01|     F|  4000|\n",
      "| Jenis|1980-02-17|     F|  1200|\n",
      "+------+----------+------+------+\n",
      "\n"
     ]
    }
   ],
   "source": [
    "\n",
    "# Importing necessary libraries\n",
    "import pyspark\n",
    "import findspark\n",
    "findspark.init()\n",
    "from pyspark.sql import SparkSession\n",
    " \n",
    "# Create a spark session\n",
    "spark = SparkSession.builder.appName('pyspark - example join').getOrCreate()\n",
    " \n",
    "# Create data in dataframe\n",
    "data = [(('Ram'), '1991-04-01', 'M', 3000),\n",
    "        (('Mike'), '2000-05-19', 'M', 4000),\n",
    "        (('Rohini'), '1978-09-05', 'M', 4000),\n",
    "        (('Maria'), '1967-12-01', 'F', 4000),\n",
    "        (('Jenis'), '1980-02-17', 'F', 1200)]\n",
    " \n",
    "# Column names in dataframe\n",
    "columns = [\"Name\", \"DOB\", \"Gender\", \"salary\"]\n",
    " \n",
    "# Create the spark dataframe\n",
    "df = spark.createDataFrame(data=data,schema=columns)\n",
    " \n",
    "# Print the dataframe\n",
    "df.show()\n",
    "\n"
   ]
  },
  {
   "cell_type": "code",
   "execution_count": 4,
   "id": "4bf69aa6",
   "metadata": {},
   "outputs": [
    {
     "name": "stdout",
     "output_type": "stream",
     "text": [
      "+------+-----------+------+------+\n",
      "|  Name|DateOfBirth|Gender|salary|\n",
      "+------+-----------+------+------+\n",
      "|   Ram| 1991-04-01|     M|  3000|\n",
      "|  Mike| 2000-05-19|     M|  4000|\n",
      "|Rohini| 1978-09-05|     M|  4000|\n",
      "| Maria| 1967-12-01|     F|  4000|\n",
      "| Jenis| 1980-02-17|     F|  1200|\n",
      "+------+-----------+------+------+\n",
      "\n"
     ]
    }
   ],
   "source": [
    "#Method 1: Using withColumnRenamed() ex:-1\n",
    "\n",
    "# Rename the column name from DOB to DateOfBirth\n",
    "# Print the dataframe\n",
    "df.withColumnRenamed(\"DOB\",\"DateOfBirth\").show()\n"
   ]
  },
  {
   "cell_type": "code",
   "execution_count": 5,
   "id": "4fc6e0a5",
   "metadata": {},
   "outputs": [
    {
     "name": "stdout",
     "output_type": "stream",
     "text": [
      "+------+----------+---+------+\n",
      "|  Name|       DOB|Sex|Amount|\n",
      "+------+----------+---+------+\n",
      "|   Ram|1991-04-01|  M|  3000|\n",
      "|  Mike|2000-05-19|  M|  4000|\n",
      "|Rohini|1978-09-05|  M|  4000|\n",
      "| Maria|1967-12-01|  F|  4000|\n",
      "| Jenis|1980-02-17|  F|  1200|\n",
      "+------+----------+---+------+\n",
      "\n"
     ]
    }
   ],
   "source": [
    "#ex:-2\n",
    "\n",
    "# Rename the column name 'Gender' to 'Sex'\n",
    "# Then for the returning dataframe \n",
    "# again rename the 'salary' to 'Amount'\n",
    "df.withColumnRenamed(\"Gender\",\"Sex\").withColumnRenamed(\"salary\",\"Amount\").show()"
   ]
  },
  {
   "cell_type": "code",
   "execution_count": 6,
   "id": "4a0a7825",
   "metadata": {},
   "outputs": [
    {
     "name": "stdout",
     "output_type": "stream",
     "text": [
      "+------+----------+------+------+\n",
      "|  name|       DOB|Gender|salary|\n",
      "+------+----------+------+------+\n",
      "|   Ram|1991-04-01|     M|  3000|\n",
      "|  Mike|2000-05-19|     M|  4000|\n",
      "|Rohini|1978-09-05|     M|  4000|\n",
      "| Maria|1967-12-01|     F|  4000|\n",
      "| Jenis|1980-02-17|     F|  1200|\n",
      "+------+----------+------+------+\n",
      "\n"
     ]
    }
   ],
   "source": [
    "#Method 2: Using selectExpr()\n",
    "\n",
    "# Select the 'Name' as 'name'\n",
    "# Select remaining with their original name\n",
    "data = df.selectExpr(\"Name as name\",\"DOB\",\"Gender\",\"salary\")\n",
    " \n",
    "# Print the dataframe\n",
    "data.show()\n"
   ]
  },
  {
   "cell_type": "code",
   "execution_count": 8,
   "id": "ed719b9d",
   "metadata": {},
   "outputs": [
    {
     "name": "stdout",
     "output_type": "stream",
     "text": [
      "+------+----------+------+------+\n",
      "|  Name|       DOB|Gender|Amount|\n",
      "+------+----------+------+------+\n",
      "|   Ram|1991-04-01|     M|  3000|\n",
      "|  Mike|2000-05-19|     M|  4000|\n",
      "|Rohini|1978-09-05|     M|  4000|\n",
      "| Maria|1967-12-01|     F|  4000|\n",
      "| Jenis|1980-02-17|     F|  1200|\n",
      "+------+----------+------+------+\n",
      "\n"
     ]
    }
   ],
   "source": [
    "#Method 3: Using select() method\n",
    "\n",
    "# Import col method from pyspark.sql.functions\n",
    "from pyspark.sql.functions import col\n",
    " \n",
    "# Select the 'salary' as 'Amount' using aliasing\n",
    "# Select remaining with their original name\n",
    "data = df.select(col(\"Name\"),col(\"DOB\"),col(\"Gender\"),col(\"salary\").alias('Amount'))\n",
    "data.show()"
   ]
  },
  {
   "cell_type": "code",
   "execution_count": 7,
   "id": "62fa6ecd",
   "metadata": {},
   "outputs": [
    {
     "name": "stdout",
     "output_type": "stream",
     "text": [
      "+--------+-------------+-----------+-----------+\n",
      "|Emp Name|Date of Birth| Gender-m/f|Paid salary|\n",
      "+--------+-------------+-----------+-----------+\n",
      "|     Ram|   1991-04-01|          M|       3000|\n",
      "|    Mike|   2000-05-19|          M|       4000|\n",
      "|  Rohini|   1978-09-05|          M|       4000|\n",
      "|   Maria|   1967-12-01|          F|       4000|\n",
      "|   Jenis|   1980-02-17|          F|       1200|\n",
      "+--------+-------------+-----------+-----------+\n",
      "\n"
     ]
    }
   ],
   "source": [
    "#Method 4: Using toDF()\n",
    "\n",
    "Data_list = [\"Emp Name\",\"Date of Birth\",\n",
    "             \" Gender-m/f\",\"Paid salary\"]\n",
    " \n",
    "new_df = df.toDF(*Data_list)\n",
    "new_df.show()\n",
    "\n"
   ]
  },
  {
   "cell_type": "code",
   "execution_count": null,
   "id": "0b1d24a3",
   "metadata": {},
   "outputs": [],
   "source": []
  }
 ],
 "metadata": {
  "kernelspec": {
   "display_name": "Python 3 (ipykernel)",
   "language": "python",
   "name": "python3"
  },
  "language_info": {
   "codemirror_mode": {
    "name": "ipython",
    "version": 3
   },
   "file_extension": ".py",
   "mimetype": "text/x-python",
   "name": "python",
   "nbconvert_exporter": "python",
   "pygments_lexer": "ipython3",
   "version": "3.11.5"
  }
 },
 "nbformat": 4,
 "nbformat_minor": 5
}

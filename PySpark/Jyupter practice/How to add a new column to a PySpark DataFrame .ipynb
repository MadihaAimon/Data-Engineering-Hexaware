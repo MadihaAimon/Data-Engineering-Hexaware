{
 "cells": [
  {
   "cell_type": "code",
   "execution_count": 2,
   "id": "94569610",
   "metadata": {},
   "outputs": [],
   "source": [
    "import findspark"
   ]
  },
  {
   "cell_type": "code",
   "execution_count": 3,
   "id": "ceda4fbf",
   "metadata": {},
   "outputs": [],
   "source": [
    "findspark.init()"
   ]
  },
  {
   "cell_type": "code",
   "execution_count": 4,
   "id": "d3a159cf",
   "metadata": {},
   "outputs": [],
   "source": [
    "import pyspark"
   ]
  },
  {
   "cell_type": "code",
   "execution_count": 5,
   "id": "4676a8e2",
   "metadata": {},
   "outputs": [],
   "source": [
    "\n",
    "from pyspark.sql import SparkSession"
   ]
  },
  {
   "cell_type": "code",
   "execution_count": 6,
   "id": "57312058",
   "metadata": {},
   "outputs": [],
   "source": [
    "spark = SparkSession.builder.appName('sparkdf').getOrCreate()"
   ]
  },
  {
   "cell_type": "code",
   "execution_count": 8,
   "id": "10cf87ca",
   "metadata": {},
   "outputs": [],
   "source": [
    "data = [[\"1\", \"sravan\", \"company 1\"],\n",
    "        [\"2\", \"ojaswi\", \"company 1\"],\n",
    "        [\"3\", \"rohith\", \"company 2\"],\n",
    "        [\"4\", \"sridevi\", \"company 1\"],\n",
    "        [\"5\", \"bobby\",\"company 1\"]]"
   ]
  },
  {
   "cell_type": "code",
   "execution_count": 9,
   "id": "c1c7ced9",
   "metadata": {},
   "outputs": [],
   "source": [
    "columns = ['ID', 'NAME', 'Company']"
   ]
  },
  {
   "cell_type": "code",
   "execution_count": 10,
   "id": "9f91b005",
   "metadata": {},
   "outputs": [],
   "source": [
    "dataframe = spark.createDataFrame(data, columns)"
   ]
  },
  {
   "cell_type": "code",
   "execution_count": 11,
   "id": "513297b4",
   "metadata": {},
   "outputs": [
    {
     "name": "stdout",
     "output_type": "stream",
     "text": [
      "+---+-------+---------+\n",
      "| ID|   NAME|  Company|\n",
      "+---+-------+---------+\n",
      "|  1| sravan|company 1|\n",
      "|  2| ojaswi|company 1|\n",
      "|  3| rohith|company 2|\n",
      "|  4|sridevi|company 1|\n",
      "|  5|  bobby|company 1|\n",
      "+---+-------+---------+\n",
      "\n"
     ]
    }
   ],
   "source": [
    "dataframe.show()"
   ]
  },
  {
   "cell_type": "code",
   "execution_count": 12,
   "id": "6504c1aa",
   "metadata": {},
   "outputs": [
    {
     "name": "stdout",
     "output_type": "stream",
     "text": [
      "+---+-------+---------+------+\n",
      "| ID|   NAME|  Company|salary|\n",
      "+---+-------+---------+------+\n",
      "|  1| sravan|company 1| 34000|\n",
      "|  2| ojaswi|company 1| 34000|\n",
      "|  3| rohith|company 2| 34000|\n",
      "|  4|sridevi|company 1| 34000|\n",
      "|  5|  bobby|company 1| 34000|\n",
      "+---+-------+---------+------+\n",
      "\n"
     ]
    }
   ],
   "source": [
    "#Add New Column With Constant Value\n",
    "\n",
    "# importing module\n",
    "import pyspark\n",
    " \n",
    "# import lit function\n",
    "from pyspark.sql.functions import lit\n",
    " \n",
    "# importing sparksession from pyspark.sql module\n",
    "from pyspark.sql import SparkSession\n",
    " \n",
    "# creating sparksession and giving an app name\n",
    "spark = SparkSession.builder.appName('sparkdf').getOrCreate()\n",
    " \n",
    "# list  of employee data\n",
    "data = [[\"1\", \"sravan\", \"company 1\"],\n",
    "        [\"2\", \"ojaswi\", \"company 1\"],\n",
    "        [\"3\", \"rohith\", \"company 2\"],\n",
    "        [\"4\", \"sridevi\", \"company 1\"],\n",
    "        [\"5\", \"bobby\", \"company 1\"]]\n",
    " \n",
    "# specify column names\n",
    "columns = ['ID', 'NAME', 'Company']\n",
    " \n",
    "# creating a dataframe from the lists of data\n",
    "dataframe = spark.createDataFrame(data, columns)\n",
    " \n",
    "# Add a column named salary with value as 34000\n",
    "dataframe.withColumn(\"salary\", lit(34000)).show()"
   ]
  },
  {
   "cell_type": "code",
   "execution_count": 13,
   "id": "2017e690",
   "metadata": {},
   "outputs": [
    {
     "name": "stdout",
     "output_type": "stream",
     "text": [
      "+---+-------+---------+-------+\n",
      "| ID|   NAME|  Company| salary|\n",
      "+---+-------+---------+-------+\n",
      "|  1| sravan|company 1| 2300.0|\n",
      "|  2| ojaswi|company 1| 4600.0|\n",
      "|  3| rohith|company 2| 6900.0|\n",
      "|  4|sridevi|company 1| 9200.0|\n",
      "|  5|  bobby|company 1|11500.0|\n",
      "+---+-------+---------+-------+\n",
      "\n"
     ]
    }
   ],
   "source": [
    "#Add Column Based on Another Column of DataFrame\n",
    "# importing module\n",
    "import pyspark\n",
    " \n",
    "# import lit function\n",
    "from pyspark.sql.functions import lit\n",
    " \n",
    "# importing sparksession from pyspark.sql module\n",
    "from pyspark.sql import SparkSession\n",
    " \n",
    "# creating sparksession and giving an app name\n",
    "spark = SparkSession.builder.appName('sparkdf').getOrCreate()\n",
    " \n",
    "# list  of employee data\n",
    "data = [[\"1\", \"sravan\", \"company 1\"],\n",
    "        [\"2\", \"ojaswi\", \"company 1\"],\n",
    "        [\"3\", \"rohith\", \"company 2\"],\n",
    "        [\"4\", \"sridevi\", \"company 1\"],\n",
    "        [\"5\", \"bobby\", \"company 1\"]]\n",
    " \n",
    "# specify column names\n",
    "columns = ['ID', 'NAME', 'Company']\n",
    " \n",
    "# creating a dataframe from the lists of data\n",
    "dataframe = spark.createDataFrame(data, columns)\n",
    " \n",
    "# Add a column named salary from ID column with multiply of 2300\n",
    "dataframe.withColumn(\"salary\", dataframe.ID*2300).show()"
   ]
  },
  {
   "cell_type": "code",
   "execution_count": 14,
   "id": "23ded48e",
   "metadata": {},
   "outputs": [
    {
     "name": "stdout",
     "output_type": "stream",
     "text": [
      "+---+-------+---------+-----------------+\n",
      "| ID|   NAME|  Company|          Details|\n",
      "+---+-------+---------+-----------------+\n",
      "|  1| sravan|company 1| sravan-company 1|\n",
      "|  2| ojaswi|company 1| ojaswi-company 1|\n",
      "|  3| rohith|company 2| rohith-company 2|\n",
      "|  4|sridevi|company 1|sridevi-company 1|\n",
      "|  5|  bobby|company 1|  bobby-company 1|\n",
      "+---+-------+---------+-----------------+\n",
      "\n"
     ]
    }
   ],
   "source": [
    "#Example 2 : Using concat_ws()\n",
    "# importing module\n",
    "import pyspark\n",
    " \n",
    "# import concat_ws function\n",
    "from pyspark.sql.functions import concat_ws\n",
    " \n",
    "# importing sparksession from pyspark.sql module\n",
    "from pyspark.sql import SparkSession\n",
    " \n",
    "# creating sparksession and giving an app name\n",
    "spark = SparkSession.builder.appName('sparkdf').getOrCreate()\n",
    " \n",
    "# list  of employee data\n",
    "data = [[\"1\", \"sravan\", \"company 1\"],\n",
    "        [\"2\", \"ojaswi\", \"company 1\"],\n",
    "        [\"3\", \"rohith\", \"company 2\"],\n",
    "        [\"4\", \"sridevi\", \"company 1\"],\n",
    "        [\"5\", \"bobby\", \"company 1\"]]\n",
    " \n",
    "# specify column names\n",
    "columns = ['ID', 'NAME', 'Company']\n",
    " \n",
    "# creating a dataframe from the lists of data\n",
    "dataframe = spark.createDataFrame(data, columns)\n",
    " \n",
    "# Add a column named Details from Name and Company columns separated by -\n",
    "dataframe.withColumn(\"Details\", concat_ws(\"-\", \"NAME\", 'Company')).show()"
   ]
  },
  {
   "cell_type": "code",
   "execution_count": 15,
   "id": "dcd6fbce",
   "metadata": {},
   "outputs": [
    {
     "name": "stdout",
     "output_type": "stream",
     "text": [
      "+---+-------+---------+------+\n",
      "| ID|   NAME|  Company|salary|\n",
      "+---+-------+---------+------+\n",
      "|  1| sravan|company 1| 34000|\n",
      "|  2| ojaswi|company 1| 34000|\n",
      "|  3| rohith|company 2| 34000|\n",
      "|  4|sridevi|company 1| 34000|\n",
      "|  5|  bobby|company 1| 34000|\n",
      "+---+-------+---------+------+\n",
      "\n"
     ]
    }
   ],
   "source": [
    "#Method 3: Add Column When not Exists on DataFrame\n",
    "\n",
    "# importing module\n",
    "import pyspark\n",
    " \n",
    "# import concat_ws and lit function\n",
    "from pyspark.sql.functions import concat_ws, lit\n",
    " \n",
    "# importing sparksession from pyspark.sql module\n",
    "from pyspark.sql import SparkSession\n",
    " \n",
    "# creating sparksession and giving an app name\n",
    "spark = SparkSession.builder.appName('sparkdf').getOrCreate()\n",
    " \n",
    "# list  of employee data\n",
    "data = [[\"1\", \"sravan\", \"company 1\"],\n",
    "        [\"2\", \"ojaswi\", \"company 1\"],\n",
    "        [\"3\", \"rohith\", \"company 2\"],\n",
    "        [\"4\", \"sridevi\", \"company 1\"],\n",
    "        [\"5\", \"bobby\", \"company 1\"]]\n",
    " \n",
    "# specify column names\n",
    "columns = ['ID', 'NAME', 'Company']\n",
    " \n",
    "# creating a dataframe from the lists of data\n",
    "dataframe = spark.createDataFrame(data, columns)\n",
    " \n",
    "# add salary column by checking its existence\n",
    "if 'salary' not in dataframe.columns:\n",
    "    dataframe.withColumn(\"salary\", lit(34000)).show()"
   ]
  },
  {
   "cell_type": "code",
   "execution_count": null,
   "id": "09ad81ba",
   "metadata": {},
   "outputs": [],
   "source": []
  }
 ],
 "metadata": {
  "kernelspec": {
   "display_name": "Python 3 (ipykernel)",
   "language": "python",
   "name": "python3"
  },
  "language_info": {
   "codemirror_mode": {
    "name": "ipython",
    "version": 3
   },
   "file_extension": ".py",
   "mimetype": "text/x-python",
   "name": "python",
   "nbconvert_exporter": "python",
   "pygments_lexer": "ipython3",
   "version": "3.11.5"
  }
 },
 "nbformat": 4,
 "nbformat_minor": 5
}

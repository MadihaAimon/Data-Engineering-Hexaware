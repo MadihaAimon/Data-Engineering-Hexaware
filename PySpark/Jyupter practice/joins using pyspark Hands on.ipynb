{
 "cells": [
  {
   "cell_type": "code",
   "execution_count": 1,
   "id": "82ca9cfd",
   "metadata": {},
   "outputs": [],
   "source": [
    "import findspark\n"
   ]
  },
  {
   "cell_type": "code",
   "execution_count": 2,
   "id": "8b2f9065",
   "metadata": {},
   "outputs": [],
   "source": [
    "findspark.init()"
   ]
  },
  {
   "cell_type": "code",
   "execution_count": 3,
   "id": "eaff9ac8",
   "metadata": {},
   "outputs": [],
   "source": [
    "import pyspark\n"
   ]
  },
  {
   "cell_type": "code",
   "execution_count": 4,
   "id": "fe3dd6a9",
   "metadata": {},
   "outputs": [],
   "source": [
    "from pyspark.sql import SparkSession"
   ]
  },
  {
   "cell_type": "code",
   "execution_count": 5,
   "id": "3da51e54",
   "metadata": {},
   "outputs": [],
   "source": [
    " \n",
    "spark = SparkSession.builder.appName('sparkdf').getOrCreate()\n"
   ]
  },
  {
   "cell_type": "code",
   "execution_count": 6,
   "id": "f70ac477",
   "metadata": {},
   "outputs": [],
   "source": [
    "\n",
    "data = [[\"1\", \"sravan\", \"company 1\"],\n",
    "        [\"2\", \"ojaswi\", \"company 1\"],\n",
    "        [\"3\", \"rohith\", \"company 2\"],\n",
    "        [\"4\", \"sridevi\", \"company 1\"],\n",
    "        [\"5\", \"bobby\", \"company 1\"]]\n"
   ]
  },
  {
   "cell_type": "code",
   "execution_count": 7,
   "id": "cd9e1c56",
   "metadata": {},
   "outputs": [],
   "source": [
    "columns = ['ID', 'NAME', 'Company']"
   ]
  },
  {
   "cell_type": "code",
   "execution_count": 8,
   "id": "edeeb44e",
   "metadata": {},
   "outputs": [],
   "source": [
    "dataframe = spark.createDataFrame(data, columns)"
   ]
  },
  {
   "cell_type": "code",
   "execution_count": 9,
   "id": "8e5483f3",
   "metadata": {},
   "outputs": [
    {
     "name": "stdout",
     "output_type": "stream",
     "text": [
      "+---+-------+---------+\n",
      "| ID|   NAME|  Company|\n",
      "+---+-------+---------+\n",
      "|  1| sravan|company 1|\n",
      "|  2| ojaswi|company 1|\n",
      "|  3| rohith|company 2|\n",
      "|  4|sridevi|company 1|\n",
      "|  5|  bobby|company 1|\n",
      "+---+-------+---------+\n",
      "\n"
     ]
    }
   ],
   "source": [
    "dataframe.show()"
   ]
  },
  {
   "cell_type": "code",
   "execution_count": 11,
   "id": "8d5255c4",
   "metadata": {},
   "outputs": [],
   "source": [
    "from pyspark.sql.functions import lit"
   ]
  },
  {
   "cell_type": "code",
   "execution_count": 12,
   "id": "fb723531",
   "metadata": {},
   "outputs": [
    {
     "name": "stdout",
     "output_type": "stream",
     "text": [
      "+---+-------+---------+------+\n",
      "| ID|   NAME|  Company|salary|\n",
      "+---+-------+---------+------+\n",
      "|  1| sravan|company 1| 34000|\n",
      "|  2| ojaswi|company 1| 34000|\n",
      "|  3| rohith|company 2| 34000|\n",
      "|  4|sridevi|company 1| 34000|\n",
      "|  5|  bobby|company 1| 34000|\n",
      "+---+-------+---------+------+\n",
      "\n"
     ]
    }
   ],
   "source": [
    "dataframe.withColumn(\"salary\", lit(34000)).show()"
   ]
  },
  {
   "cell_type": "code",
   "execution_count": 13,
   "id": "7553af24",
   "metadata": {},
   "outputs": [
    {
     "name": "stdout",
     "output_type": "stream",
     "text": [
      "+---+-------+---------+-------+\n",
      "| ID|   NAME|  Company| salary|\n",
      "+---+-------+---------+-------+\n",
      "|  1| sravan|company 1| 2300.0|\n",
      "|  2| ojaswi|company 1| 4600.0|\n",
      "|  3| rohith|company 2| 6900.0|\n",
      "|  4|sridevi|company 1| 9200.0|\n",
      "|  5|  bobby|company 1|11500.0|\n",
      "+---+-------+---------+-------+\n",
      "\n"
     ]
    }
   ],
   "source": [
    "dataframe.withColumn(\"salary\", dataframe.ID*2300).show()"
   ]
  },
  {
   "cell_type": "code",
   "execution_count": 14,
   "id": "0a1e95fc",
   "metadata": {},
   "outputs": [],
   "source": [
    "from pyspark.sql.functions import concat_ws"
   ]
  },
  {
   "cell_type": "code",
   "execution_count": 15,
   "id": "d97d8453",
   "metadata": {},
   "outputs": [
    {
     "name": "stdout",
     "output_type": "stream",
     "text": [
      "+---+-------+---------+-----------------+\n",
      "| ID|   NAME|  Company|          Details|\n",
      "+---+-------+---------+-----------------+\n",
      "|  1| sravan|company 1| sravan-company 1|\n",
      "|  2| ojaswi|company 1| ojaswi-company 1|\n",
      "|  3| rohith|company 2| rohith-company 2|\n",
      "|  4|sridevi|company 1|sridevi-company 1|\n",
      "|  5|  bobby|company 1|  bobby-company 1|\n",
      "+---+-------+---------+-----------------+\n",
      "\n"
     ]
    }
   ],
   "source": [
    "dataframe.withColumn(\"Details\", concat_ws(\"-\", \"NAME\", 'Company')).show()\n"
   ]
  },
  {
   "cell_type": "code",
   "execution_count": 10,
   "id": "67a0d9e2",
   "metadata": {},
   "outputs": [],
   "source": [
    "empColumns = [\"emp_id\",\"name\",\"superior_emp_id\",\"year_joined\", \"emp_dept_id\",\"gender\",\"salary\"]"
   ]
  },
  {
   "cell_type": "code",
   "execution_count": 11,
   "id": "2ecf1469",
   "metadata": {},
   "outputs": [],
   "source": [
    "emp = [(1,\"Smith\",-1,\"2018\",\"10\",\"M\",3000),(2, \"Rose\",1 , \"2010\", \"20\",\"M\", 4000),(3,\"Williams\",1,\"2010\",\"10\",\"M\",1000),(4, \"Jones\",2 ,\"2005\",\"10\",\"F\",2000),(5,\"Brown\",2,\"2010\",\"40\",\"\",-1),(6, \"Brown\", 2, \"2010\",\"50\",\"\",-1)]"
   ]
  },
  {
   "cell_type": "code",
   "execution_count": 12,
   "id": "ccda2c82",
   "metadata": {},
   "outputs": [],
   "source": [
    "empDF = spark.createDataFrame(data=emp, schema = empColumns)"
   ]
  },
  {
   "cell_type": "code",
   "execution_count": 13,
   "id": "0afc1598",
   "metadata": {},
   "outputs": [
    {
     "name": "stdout",
     "output_type": "stream",
     "text": [
      "+------+--------+---------------+-----------+-----------+------+------+\n",
      "|emp_id|    name|superior_emp_id|year_joined|emp_dept_id|gender|salary|\n",
      "+------+--------+---------------+-----------+-----------+------+------+\n",
      "|     1|   Smith|             -1|       2018|         10|     M|  3000|\n",
      "|     2|    Rose|              1|       2010|         20|     M|  4000|\n",
      "|     3|Williams|              1|       2010|         10|     M|  1000|\n",
      "|     4|   Jones|              2|       2005|         10|     F|  2000|\n",
      "|     5|   Brown|              2|       2010|         40|      |    -1|\n",
      "|     6|   Brown|              2|       2010|         50|      |    -1|\n",
      "+------+--------+---------------+-----------+-----------+------+------+\n",
      "\n"
     ]
    }
   ],
   "source": [
    "empDF.show()"
   ]
  },
  {
   "cell_type": "code",
   "execution_count": 14,
   "id": "00356a6f",
   "metadata": {},
   "outputs": [],
   "source": [
    "deptColumns = [\"dept_name\",\"dept_id\"]\n"
   ]
  },
  {
   "cell_type": "code",
   "execution_count": 15,
   "id": "ee9bf3aa",
   "metadata": {},
   "outputs": [],
   "source": [
    "dept = [(\"Finance\",10),(\"Marketing\",20),(\"Sales\",30),(\"IT\",40)]\n"
   ]
  },
  {
   "cell_type": "code",
   "execution_count": 16,
   "id": "c8c90c8c",
   "metadata": {},
   "outputs": [],
   "source": [
    "deptDF = spark.createDataFrame(data=dept, schema = deptColumns)\n"
   ]
  },
  {
   "cell_type": "code",
   "execution_count": 17,
   "id": "15445251",
   "metadata": {},
   "outputs": [
    {
     "name": "stdout",
     "output_type": "stream",
     "text": [
      "+---------+-------+\n",
      "|dept_name|dept_id|\n",
      "+---------+-------+\n",
      "|  Finance|     10|\n",
      "|Marketing|     20|\n",
      "|    Sales|     30|\n",
      "|       IT|     40|\n",
      "+---------+-------+\n",
      "\n"
     ]
    }
   ],
   "source": [
    "deptDF.show()"
   ]
  },
  {
   "cell_type": "code",
   "execution_count": 18,
   "id": "5fb51c6d",
   "metadata": {},
   "outputs": [
    {
     "name": "stdout",
     "output_type": "stream",
     "text": [
      "+------+--------+---------------+-----------+-----------+------+------+---------+-------+\n",
      "|emp_id|    name|superior_emp_id|year_joined|emp_dept_id|gender|salary|dept_name|dept_id|\n",
      "+------+--------+---------------+-----------+-----------+------+------+---------+-------+\n",
      "|     1|   Smith|             -1|       2018|         10|     M|  3000|  Finance|     10|\n",
      "|     3|Williams|              1|       2010|         10|     M|  1000|  Finance|     10|\n",
      "|     4|   Jones|              2|       2005|         10|     F|  2000|  Finance|     10|\n",
      "|     2|    Rose|              1|       2010|         20|     M|  4000|Marketing|     20|\n",
      "|     5|   Brown|              2|       2010|         40|      |    -1|       IT|     40|\n",
      "+------+--------+---------------+-----------+-----------+------+------+---------+-------+\n",
      "\n"
     ]
    }
   ],
   "source": [
    "empDF.join(deptDF,empDF.emp_dept_id ==  deptDF.dept_id,\"inner\") .show()\n"
   ]
  },
  {
   "cell_type": "code",
   "execution_count": null,
   "id": "f60c4e4e",
   "metadata": {},
   "outputs": [],
   "source": []
  }
 ],
 "metadata": {
  "kernelspec": {
   "display_name": "Python 3 (ipykernel)",
   "language": "python",
   "name": "python3"
  },
  "language_info": {
   "codemirror_mode": {
    "name": "ipython",
    "version": 3
   },
   "file_extension": ".py",
   "mimetype": "text/x-python",
   "name": "python",
   "nbconvert_exporter": "python",
   "pygments_lexer": "ipython3",
   "version": "3.11.5"
  }
 },
 "nbformat": 4,
 "nbformat_minor": 5
}
